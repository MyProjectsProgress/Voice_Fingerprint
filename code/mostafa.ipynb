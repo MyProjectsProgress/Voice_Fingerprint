{
 "cells": [
  {
   "cell_type": "code",
   "execution_count": 14,
   "metadata": {},
   "outputs": [],
   "source": [
    "import numpy as np\n",
    "from numpy import mean, sqrt, square, arange\n",
    "import librosa\n",
    "import os\n"
   ]
  },
  {
   "cell_type": "code",
   "execution_count": 26,
   "metadata": {},
   "outputs": [],
   "source": [
    "def feature_extraction1(file_path):\n",
    "    x, sample_rate = librosa.load(file_path, res_type='kaiser_fast')\n",
    "    rms = sqrt(mean(square(x)))\n",
    "    return rms"
   ]
  },
  {
   "cell_type": "code",
   "execution_count": 24,
   "metadata": {},
   "outputs": [],
   "source": [
    "def feature_extraction2(file_path):\n",
    "    x, sample_rate = librosa.load(file_path, res_type='kaiser_fast')\n",
    "    zero_crosses = np.nonzero(np.diff(x>0))[0]\n",
    "    return zero_crosses.size"
   ]
  },
  {
   "cell_type": "code",
   "execution_count": 29,
   "metadata": {},
   "outputs": [],
   "source": [
    "features1magdy = []\n",
    "features2magdy = []\n",
    "features3magdy = []\n",
    "directory = './files/magdy/'\n",
    "for audio in os.listdir('./files/magdy/'):\n",
    "    audio_path = directory + audio\n",
    "    features1magdy.append(feature_extraction1(audio_path))\n",
    "    features2magdy.append(feature_extraction2(audio_path))\n",
    "    \n",
    "   "
   ]
  }
 ],
 "metadata": {
  "kernelspec": {
   "display_name": "Python 3.10.5 64-bit",
   "language": "python",
   "name": "python3"
  },
  "language_info": {
   "codemirror_mode": {
    "name": "ipython",
    "version": 3
   },
   "file_extension": ".py",
   "mimetype": "text/x-python",
   "name": "python",
   "nbconvert_exporter": "python",
   "pygments_lexer": "ipython3",
   "version": "3.10.5"
  },
  "orig_nbformat": 4,
  "vscode": {
   "interpreter": {
    "hash": "a9cff5a362bc38ef45d817ae74b1af54d6a076e3d773891282bce078b815ba34"
   }
  }
 },
 "nbformat": 4,
 "nbformat_minor": 2
}
