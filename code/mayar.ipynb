{
 "cells": [
  {
   "cell_type": "code",
   "execution_count": 1,
   "metadata": {},
   "outputs": [],
   "source": [
    "import librosa\n",
    "import librosa.display\n",
    "import IPython.display as ipd\n",
    "import os\n",
    "import numpy as np"
   ]
  },
  {
   "cell_type": "code",
   "execution_count": 3,
   "metadata": {},
   "outputs": [],
   "source": [
    "def feature_extraction1(file_path):\n",
    "    # load the audio file\n",
    "    x, sample_rate = librosa.load(file_path, res_type='kaiser_fast')\n",
    "    # extract features from the audio\n",
    "    mfcc = np.mean(librosa.feature.mfcc(y=x, sr=sample_rate, n_mfcc=1).T, axis=0)\n",
    "\n",
    "    return mfcc"
   ]
  },
  {
   "cell_type": "code",
   "execution_count": 4,
   "metadata": {},
   "outputs": [],
   "source": [
    "def feature_extraction2(file_path):\n",
    "    # load the audio file\n",
    "    x, sample_rate = librosa.load(file_path, res_type='kaiser_fast')\n",
    "    # extract features from the audio\n",
    "    tempo = librosa.beat.tempo(x)[0]\n",
    "\n",
    "    return tempo"
   ]
  },
  {
   "cell_type": "code",
   "execution_count": 5,
   "metadata": {},
   "outputs": [],
   "source": [
    "def feature_extraction3(file_path):\n",
    "    # load the audio file\n",
    "    x, sample_rate = librosa.load(file_path, res_type='kaiser_fast')\n",
    "    # extract features from the audio\n",
    "    zero_crossings = sum(librosa.zero_crossings(x, pad=False))\n",
    "\n",
    "    return zero_crossings"
   ]
  },
  {
   "cell_type": "code",
   "execution_count": 7,
   "metadata": {},
   "outputs": [
    {
     "name": "stderr",
     "output_type": "stream",
     "text": [
      "C:\\Users\\dell\\AppData\\Local\\Temp\\ipykernel_15224\\396736256.py:5: FutureWarning: Pass y=[0.0000000e+00 0.0000000e+00 0.0000000e+00 ... 9.6842259e-06 3.1610896e-05\n",
      " 0.0000000e+00] as keyword args. From version 0.10 passing these as positional arguments will result in an error\n",
      "  tempo = librosa.beat.tempo(x)[0]\n",
      "C:\\Users\\dell\\AppData\\Local\\Temp\\ipykernel_15224\\396736256.py:5: FutureWarning: Pass y=[0. 0. 0. ... 0. 0. 0.] as keyword args. From version 0.10 passing these as positional arguments will result in an error\n",
      "  tempo = librosa.beat.tempo(x)[0]\n",
      "C:\\Users\\dell\\AppData\\Local\\Temp\\ipykernel_15224\\396736256.py:5: FutureWarning: Pass y=[ 0.0000000e+00  0.0000000e+00  0.0000000e+00 ...  2.4366949e-05\n",
      "  2.5018922e-05 -2.6840855e-06] as keyword args. From version 0.10 passing these as positional arguments will result in an error\n",
      "  tempo = librosa.beat.tempo(x)[0]\n",
      "C:\\Users\\dell\\AppData\\Local\\Temp\\ipykernel_15224\\396736256.py:5: FutureWarning: Pass y=[0.000000e+00 0.000000e+00 0.000000e+00 ... 2.953369e-05 3.320741e-05\n",
      " 0.000000e+00] as keyword args. From version 0.10 passing these as positional arguments will result in an error\n",
      "  tempo = librosa.beat.tempo(x)[0]\n",
      "C:\\Users\\dell\\AppData\\Local\\Temp\\ipykernel_15224\\396736256.py:5: FutureWarning: Pass y=[ 0.0000000e+00  0.0000000e+00  0.0000000e+00 ...  3.1667923e-06\n",
      " -2.5035233e-05  0.0000000e+00] as keyword args. From version 0.10 passing these as positional arguments will result in an error\n",
      "  tempo = librosa.beat.tempo(x)[0]\n",
      "C:\\Users\\dell\\AppData\\Local\\Temp\\ipykernel_15224\\396736256.py:5: FutureWarning: Pass y=[0.0000000e+00 0.0000000e+00 0.0000000e+00 ... 2.6410698e-05 3.4769579e-05\n",
      " 0.0000000e+00] as keyword args. From version 0.10 passing these as positional arguments will result in an error\n",
      "  tempo = librosa.beat.tempo(x)[0]\n",
      "C:\\Users\\dell\\AppData\\Local\\Temp\\ipykernel_15224\\396736256.py:5: FutureWarning: Pass y=[ 0.0000000e+00  0.0000000e+00  0.0000000e+00 ... -2.9723413e-08\n",
      "  1.7537213e-08 -8.0288167e-09] as keyword args. From version 0.10 passing these as positional arguments will result in an error\n",
      "  tempo = librosa.beat.tempo(x)[0]\n",
      "C:\\Users\\dell\\AppData\\Local\\Temp\\ipykernel_15224\\396736256.py:5: FutureWarning: Pass y=[ 0.0000000e+00  0.0000000e+00  0.0000000e+00 ... -2.8940478e-05\n",
      " -3.3274704e-05  0.0000000e+00] as keyword args. From version 0.10 passing these as positional arguments will result in an error\n",
      "  tempo = librosa.beat.tempo(x)[0]\n",
      "C:\\Users\\dell\\AppData\\Local\\Temp\\ipykernel_15224\\396736256.py:5: FutureWarning: Pass y=[0.0000000e+00 0.0000000e+00 0.0000000e+00 ... 1.1489391e-05 2.2651513e-05\n",
      " 0.0000000e+00] as keyword args. From version 0.10 passing these as positional arguments will result in an error\n",
      "  tempo = librosa.beat.tempo(x)[0]\n",
      "C:\\Users\\dell\\AppData\\Local\\Temp\\ipykernel_15224\\396736256.py:5: FutureWarning: Pass y=[ 0.000000e+00  0.000000e+00  0.000000e+00 ... -3.170386e-05 -3.166490e-05\n",
      "  0.000000e+00] as keyword args. From version 0.10 passing these as positional arguments will result in an error\n",
      "  tempo = librosa.beat.tempo(x)[0]\n",
      "C:\\Users\\dell\\AppData\\Local\\Temp\\ipykernel_15224\\396736256.py:5: FutureWarning: Pass y=[ 0.0000000e+00  0.0000000e+00  0.0000000e+00 ...  4.7157709e-08\n",
      " -4.0080565e-08  0.0000000e+00] as keyword args. From version 0.10 passing these as positional arguments will result in an error\n",
      "  tempo = librosa.beat.tempo(x)[0]\n",
      "C:\\Users\\dell\\AppData\\Local\\Temp\\ipykernel_15224\\396736256.py:5: FutureWarning: Pass y=[ 0.0000000e+00  0.0000000e+00  0.0000000e+00 ... -1.8451964e-07\n",
      "  5.3039855e-08  3.3730181e-08] as keyword args. From version 0.10 passing these as positional arguments will result in an error\n",
      "  tempo = librosa.beat.tempo(x)[0]\n",
      "C:\\Users\\dell\\AppData\\Local\\Temp\\ipykernel_15224\\396736256.py:5: FutureWarning: Pass y=[ 0.0000000e+00  0.0000000e+00  0.0000000e+00 ... -5.1926355e-07\n",
      "  2.3238887e-07  0.0000000e+00] as keyword args. From version 0.10 passing these as positional arguments will result in an error\n",
      "  tempo = librosa.beat.tempo(x)[0]\n",
      "C:\\Users\\dell\\AppData\\Local\\Temp\\ipykernel_15224\\396736256.py:5: FutureWarning: Pass y=[ 0.0000000e+00  0.0000000e+00  0.0000000e+00 ...  2.3060988e-07\n",
      " -2.8214142e-08 -9.6774151e-08] as keyword args. From version 0.10 passing these as positional arguments will result in an error\n",
      "  tempo = librosa.beat.tempo(x)[0]\n",
      "C:\\Users\\dell\\AppData\\Local\\Temp\\ipykernel_15224\\396736256.py:5: FutureWarning: Pass y=[0.0000000e+00 0.0000000e+00 0.0000000e+00 ... 2.9850622e-05 3.0754389e-05\n",
      " 3.1372521e-05] as keyword args. From version 0.10 passing these as positional arguments will result in an error\n",
      "  tempo = librosa.beat.tempo(x)[0]\n"
     ]
    }
   ],
   "source": [
    "features1 = {}\n",
    "features2 = {}\n",
    "features3 = {}\n",
    "directory = './files/mayar/'\n",
    "for audio in os.listdir('./files/mayar/'):\n",
    "    audio_path = directory + audio\n",
    "    features1[audio_path] = feature_extraction1(audio_path)\n",
    "    features2[audio_path] = feature_extraction2(audio_path)\n",
    "    features3[audio_path] = feature_extraction3(audio_path)"
   ]
  },
  {
   "cell_type": "code",
   "execution_count": 8,
   "metadata": {},
   "outputs": [
    {
     "data": {
      "text/plain": [
       "{'./files/mayar/Mayar 10.wav': array([-458.59906], dtype=float32),\n",
       " './files/mayar/Mayar 11.wav': array([-415.10437], dtype=float32),\n",
       " './files/mayar/Mayar 12.wav': array([-439.23077], dtype=float32),\n",
       " './files/mayar/Mayar 13.wav': array([-461.7058], dtype=float32),\n",
       " './files/mayar/Mayar 14.wav': array([-454.6694], dtype=float32),\n",
       " './files/mayar/Mayar 15.wav': array([-437.9443], dtype=float32),\n",
       " './files/mayar/Mayar 16.wav': array([-445.83026], dtype=float32),\n",
       " './files/mayar/Mayar 17.wav': array([-442.66434], dtype=float32),\n",
       " './files/mayar/Mayar 18.wav': array([-454.57422], dtype=float32),\n",
       " './files/mayar/Mayar 19.wav': array([-426.23743], dtype=float32),\n",
       " './files/mayar/Mayar 2.wav': array([-469.31796], dtype=float32),\n",
       " './files/mayar/Mayar 20.wav': array([-459.37134], dtype=float32),\n",
       " './files/mayar/Mayar 21.wav': array([-455.05124], dtype=float32),\n",
       " './files/mayar/Mayar 22.wav': array([-481.26892], dtype=float32),\n",
       " './files/mayar/Mayar 23.wav': array([-454.89984], dtype=float32),\n",
       " './files/mayar/Mayar 24.wav': array([-470.0215], dtype=float32),\n",
       " './files/mayar/Mayar 3.wav': array([-429.57822], dtype=float32),\n",
       " './files/mayar/Mayar 4.wav': array([-458.6178], dtype=float32),\n",
       " './files/mayar/Mayar 5.wav': array([-498.40994], dtype=float32),\n",
       " './files/mayar/Mayar 6.wav': array([-493.3934], dtype=float32),\n",
       " './files/mayar/Mayar 7.wav': array([-479.98688], dtype=float32),\n",
       " './files/mayar/Mayar 8.wav': array([-437.33307], dtype=float32),\n",
       " './files/mayar/Mayar 9.wav': array([-496.01788], dtype=float32),\n",
       " './files/mayar/Mayar.wav': array([-450.66156], dtype=float32)}"
      ]
     },
     "execution_count": 8,
     "metadata": {},
     "output_type": "execute_result"
    }
   ],
   "source": [
    "features1"
   ]
  },
  {
   "cell_type": "code",
   "execution_count": null,
   "metadata": {},
   "outputs": [],
   "source": []
  }
 ],
 "metadata": {
  "kernelspec": {
   "display_name": "Python 3.10.8 64-bit (microsoft store)",
   "language": "python",
   "name": "python3"
  },
  "language_info": {
   "codemirror_mode": {
    "name": "ipython",
    "version": 3
   },
   "file_extension": ".py",
   "mimetype": "text/x-python",
   "name": "python",
   "nbconvert_exporter": "python",
   "pygments_lexer": "ipython3",
   "version": "3.10.8"
  },
  "orig_nbformat": 4,
  "vscode": {
   "interpreter": {
    "hash": "7536d7b229462f4296d4c0dae49c3bd6cd3990c783d6b9d88ce3c31a78605890"
   }
  }
 },
 "nbformat": 4,
 "nbformat_minor": 2
}
