{
 "cells": [
  {
   "cell_type": "code",
   "execution_count": 48,
   "metadata": {},
   "outputs": [],
   "source": [
    "import librosa\n",
    "import librosa.display\n",
    "import IPython.display as ipd\n",
    "import os\n",
    "import numpy as np"
   ]
  },
  {
   "cell_type": "code",
   "execution_count": 49,
   "metadata": {},
   "outputs": [],
   "source": [
    "def feature_extraction1(file_path):\n",
    "    # load the audio file\n",
    "    x, sample_rate = librosa.load(file_path, res_type='kaiser_fast')\n",
    "    # extract features from the audio\n",
    "    mfcc = np.mean(librosa.feature.mfcc(y=x, sr=sample_rate, n_mfcc=1).T, axis=0)\n",
    "\n",
    "    return mfcc"
   ]
  },
  {
   "cell_type": "code",
   "execution_count": 50,
   "metadata": {},
   "outputs": [],
   "source": [
    "def feature_extraction2(file_path):\n",
    "    # load the audio file\n",
    "    x, sample_rate = librosa.load(file_path, res_type='kaiser_fast')\n",
    "    # extract features from the audio\n",
    "    tempo = librosa.beat.tempo(x)[0]\n",
    "\n",
    "    return tempo"
   ]
  },
  {
   "cell_type": "code",
   "execution_count": 52,
   "metadata": {},
   "outputs": [],
   "source": [
    "def feature_extraction3(file_path):\n",
    "    # load the audio file\n",
    "    x, sample_rate = librosa.load(file_path, res_type='kaiser_fast')\n",
    "    # extract features from the audio\n",
    "    zero_crossings = sum(librosa.zero_crossings(x, pad=False))\n",
    "\n",
    "    return zero_crossings"
   ]
  },
  {
   "cell_type": "code",
   "execution_count": 53,
   "metadata": {},
   "outputs": [
    {
     "name": "stderr",
     "output_type": "stream",
     "text": [
      "C:\\Users\\dell\\AppData\\Local\\Temp\\ipykernel_8056\\396736256.py:5: FutureWarning: Pass y=[0.00071088 0.00095801 0.00070591 ... 0.0025272  0.00360267 0.        ] as keyword args. From version 0.10 passing these as positional arguments will result in an error\n",
      "  tempo = librosa.beat.tempo(x)[0]\n",
      "C:\\Users\\dell\\AppData\\Local\\Temp\\ipykernel_8056\\396736256.py:5: FutureWarning: Pass y=[-0.00039605 -0.00143141 -0.00264237 ...  0.00012232  0.00021707\n",
      "  0.        ] as keyword args. From version 0.10 passing these as positional arguments will result in an error\n",
      "  tempo = librosa.beat.tempo(x)[0]\n",
      "C:\\Users\\dell\\AppData\\Local\\Temp\\ipykernel_8056\\396736256.py:5: FutureWarning: Pass y=[ 6.1121384e-05  1.6982766e-04  2.0959138e-04 ... -3.5837402e-03\n",
      " -3.9859670e-03  0.0000000e+00] as keyword args. From version 0.10 passing these as positional arguments will result in an error\n",
      "  tempo = librosa.beat.tempo(x)[0]\n",
      "C:\\Users\\dell\\AppData\\Local\\Temp\\ipykernel_8056\\396736256.py:5: FutureWarning: Pass y=[-0.00173159 -0.00249588 -0.00191907 ... -0.00032296 -0.00098854\n",
      "  0.        ] as keyword args. From version 0.10 passing these as positional arguments will result in an error\n",
      "  tempo = librosa.beat.tempo(x)[0]\n",
      "C:\\Users\\dell\\AppData\\Local\\Temp\\ipykernel_8056\\396736256.py:5: FutureWarning: Pass y=[ 3.0895681e-05  9.1705384e-04  1.7718838e-03 ... -1.8465283e-03\n",
      " -2.7571335e-03  0.0000000e+00] as keyword args. From version 0.10 passing these as positional arguments will result in an error\n",
      "  tempo = librosa.beat.tempo(x)[0]\n",
      "C:\\Users\\dell\\AppData\\Local\\Temp\\ipykernel_8056\\396736256.py:5: FutureWarning: Pass y=[-0.00033542 -0.00049408 -0.00036935 ... -0.0005624  -0.00089895\n",
      "  0.        ] as keyword args. From version 0.10 passing these as positional arguments will result in an error\n",
      "  tempo = librosa.beat.tempo(x)[0]\n",
      "C:\\Users\\dell\\AppData\\Local\\Temp\\ipykernel_8056\\396736256.py:5: FutureWarning: Pass y=[ 0.00332245  0.00466278  0.00333655 ... -0.00077697 -0.00066855\n",
      "  0.        ] as keyword args. From version 0.10 passing these as positional arguments will result in an error\n",
      "  tempo = librosa.beat.tempo(x)[0]\n",
      "C:\\Users\\dell\\AppData\\Local\\Temp\\ipykernel_8056\\396736256.py:5: FutureWarning: Pass y=[ 0.00025269  0.00047002  0.00056691 ... -0.00316127 -0.00055503\n",
      "  0.        ] as keyword args. From version 0.10 passing these as positional arguments will result in an error\n",
      "  tempo = librosa.beat.tempo(x)[0]\n",
      "C:\\Users\\dell\\AppData\\Local\\Temp\\ipykernel_8056\\396736256.py:5: FutureWarning: Pass y=[-2.9316183e-05 -3.5338162e-05 -1.6655403e-04 ...  2.3320453e-04\n",
      "  3.0273228e-04  0.0000000e+00] as keyword args. From version 0.10 passing these as positional arguments will result in an error\n",
      "  tempo = librosa.beat.tempo(x)[0]\n",
      "C:\\Users\\dell\\AppData\\Local\\Temp\\ipykernel_8056\\396736256.py:5: FutureWarning: Pass y=[-0.00029491 -0.00049587 -0.0004567  ...  0.00022321  0.00076863\n",
      "  0.        ] as keyword args. From version 0.10 passing these as positional arguments will result in an error\n",
      "  tempo = librosa.beat.tempo(x)[0]\n",
      "C:\\Users\\dell\\AppData\\Local\\Temp\\ipykernel_8056\\396736256.py:5: FutureWarning: Pass y=[-2.9169141e-05 -1.6311320e-04 -2.3673086e-04 ... -4.5605839e-06\n",
      " -5.1782426e-04  0.0000000e+00] as keyword args. From version 0.10 passing these as positional arguments will result in an error\n",
      "  tempo = librosa.beat.tempo(x)[0]\n",
      "C:\\Users\\dell\\AppData\\Local\\Temp\\ipykernel_8056\\396736256.py:5: FutureWarning: Pass y=[-0.00058246 -0.00091081 -0.00073245 ... -0.00046406 -0.00048214\n",
      "  0.        ] as keyword args. From version 0.10 passing these as positional arguments will result in an error\n",
      "  tempo = librosa.beat.tempo(x)[0]\n",
      "C:\\Users\\dell\\AppData\\Local\\Temp\\ipykernel_8056\\396736256.py:5: FutureWarning: Pass y=[ 1.3989993e-04 -3.1041294e-05 -4.6878564e-04 ... -1.3948053e-03\n",
      " -1.1795661e-03  0.0000000e+00] as keyword args. From version 0.10 passing these as positional arguments will result in an error\n",
      "  tempo = librosa.beat.tempo(x)[0]\n",
      "C:\\Users\\dell\\AppData\\Local\\Temp\\ipykernel_8056\\396736256.py:5: FutureWarning: Pass y=[0.00097411 0.00140704 0.00103034 ... 0.00696037 0.00462216 0.        ] as keyword args. From version 0.10 passing these as positional arguments will result in an error\n",
      "  tempo = librosa.beat.tempo(x)[0]\n",
      "C:\\Users\\dell\\AppData\\Local\\Temp\\ipykernel_8056\\396736256.py:5: FutureWarning: Pass y=[0.00070764 0.0012085  0.00112296 ... 0.00180517 0.00217413 0.        ] as keyword args. From version 0.10 passing these as positional arguments will result in an error\n",
      "  tempo = librosa.beat.tempo(x)[0]\n"
     ]
    }
   ],
   "source": [
    "features1 = {}\n",
    "features2 = {}\n",
    "features3 = {}\n",
    "directory = './files/magdy/'\n",
    "for audio in os.listdir('./files/magdy/'):\n",
    "    audio_path = directory + audio\n",
    "    features1[audio_path] = feature_extraction1(audio_path)\n",
    "    features2[audio_path] = feature_extraction2(audio_path)\n",
    "    features3[audio_path] = feature_extraction3(audio_path)"
   ]
  },
  {
   "cell_type": "code",
   "execution_count": 54,
   "metadata": {},
   "outputs": [
    {
     "data": {
      "text/plain": [
       "{'./files/magdy/1.wav': array([-440.83002], dtype=float32),\n",
       " './files/magdy/10.wav': array([-432.60953], dtype=float32),\n",
       " './files/magdy/11.wav': array([-379.33774], dtype=float32),\n",
       " './files/magdy/12.wav': array([-430.09033], dtype=float32),\n",
       " './files/magdy/13.wav': array([-365.0814], dtype=float32),\n",
       " './files/magdy/14.wav': array([-426.20816], dtype=float32),\n",
       " './files/magdy/15.wav': array([-400.5484], dtype=float32),\n",
       " './files/magdy/2.wav': array([-435.29178], dtype=float32),\n",
       " './files/magdy/3.wav': array([-416.56265], dtype=float32),\n",
       " './files/magdy/4.wav': array([-485.06375], dtype=float32),\n",
       " './files/magdy/5.wav': array([-450.66205], dtype=float32),\n",
       " './files/magdy/6.wav': array([-441.835], dtype=float32),\n",
       " './files/magdy/7.wav': array([-405.33453], dtype=float32),\n",
       " './files/magdy/8.wav': array([-445.14798], dtype=float32),\n",
       " './files/magdy/9.wav': array([-395.253], dtype=float32)}"
      ]
     },
     "execution_count": 54,
     "metadata": {},
     "output_type": "execute_result"
    }
   ],
   "source": [
    "features1"
   ]
  },
  {
   "cell_type": "code",
   "execution_count": 36,
   "metadata": {},
   "outputs": [
    {
     "data": {
      "text/plain": [
       "{'./files/magdy/1.wav': 172.265625,\n",
       " './files/magdy/10.wav': 151.99908088235293,\n",
       " './files/magdy/11.wav': 198.76802884615384,\n",
       " './files/magdy/12.wav': 215.33203125,\n",
       " './files/magdy/13.wav': 198.76802884615384,\n",
       " './files/magdy/14.wav': 135.99917763157896,\n",
       " './files/magdy/15.wav': 143.5546875,\n",
       " './files/magdy/2.wav': 123.046875,\n",
       " './files/magdy/3.wav': 135.99917763157896,\n",
       " './files/magdy/4.wav': 117.45383522727273,\n",
       " './files/magdy/5.wav': 123.046875,\n",
       " './files/magdy/6.wav': 184.5703125,\n",
       " './files/magdy/7.wav': 135.99917763157896,\n",
       " './files/magdy/8.wav': 184.5703125,\n",
       " './files/magdy/9.wav': 198.76802884615384}"
      ]
     },
     "execution_count": 36,
     "metadata": {},
     "output_type": "execute_result"
    }
   ],
   "source": [
    "features2"
   ]
  },
  {
   "cell_type": "code",
   "execution_count": 37,
   "metadata": {},
   "outputs": [
    {
     "data": {
      "text/plain": [
       "{'./files/magdy/1.wav': 1938,\n",
       " './files/magdy/10.wav': 1189,\n",
       " './files/magdy/11.wav': 1650,\n",
       " './files/magdy/12.wav': 1617,\n",
       " './files/magdy/13.wav': 1292,\n",
       " './files/magdy/14.wav': 1609,\n",
       " './files/magdy/15.wav': 1350,\n",
       " './files/magdy/2.wav': 1496,\n",
       " './files/magdy/3.wav': 1475,\n",
       " './files/magdy/4.wav': 3637,\n",
       " './files/magdy/5.wav': 1911,\n",
       " './files/magdy/6.wav': 1569,\n",
       " './files/magdy/7.wav': 1018,\n",
       " './files/magdy/8.wav': 1286,\n",
       " './files/magdy/9.wav': 950}"
      ]
     },
     "execution_count": 37,
     "metadata": {},
     "output_type": "execute_result"
    }
   ],
   "source": [
    "features3"
   ]
  },
  {
   "cell_type": "code",
   "execution_count": 38,
   "metadata": {},
   "outputs": [],
   "source": [
    "#Import Libraries\n",
    "from sklearn.datasets import load_boston\n",
    "from sklearn.model_selection import train_test_split\n",
    "from sklearn.svm import SVR"
   ]
  },
  {
   "cell_type": "code",
   "execution_count": 43,
   "metadata": {},
   "outputs": [
    {
     "name": "stderr",
     "output_type": "stream",
     "text": [
      "C:\\Users\\dell\\AppData\\Local\\Packages\\PythonSoftwareFoundation.Python.3.10_qbz5n2kfra8p0\\LocalCache\\local-packages\\Python310\\site-packages\\sklearn\\utils\\deprecation.py:87: FutureWarning: Function load_boston is deprecated; `load_boston` is deprecated in 1.0 and will be removed in 1.2.\n",
      "\n",
      "    The Boston housing prices dataset has an ethical problem. You can refer to\n",
      "    the documentation of this function for further details.\n",
      "\n",
      "    The scikit-learn maintainers therefore strongly discourage the use of this\n",
      "    dataset unless the purpose of the code is to study and educate about\n",
      "    ethical issues in data science and machine learning.\n",
      "\n",
      "    In this special case, you can fetch the dataset from the original\n",
      "    source::\n",
      "\n",
      "        import pandas as pd\n",
      "        import numpy as np\n",
      "\n",
      "        data_url = \"http://lib.stat.cmu.edu/datasets/boston\"\n",
      "        raw_df = pd.read_csv(data_url, sep=\"\\s+\", skiprows=22, header=None)\n",
      "        data = np.hstack([raw_df.values[::2, :], raw_df.values[1::2, :2]])\n",
      "        target = raw_df.values[1::2, 2]\n",
      "\n",
      "    Alternative datasets include the California housing dataset (i.e.\n",
      "    :func:`~sklearn.datasets.fetch_california_housing`) and the Ames housing\n",
      "    dataset. You can load the datasets as follows::\n",
      "\n",
      "        from sklearn.datasets import fetch_california_housing\n",
      "        housing = fetch_california_housing()\n",
      "\n",
      "    for the California housing dataset and::\n",
      "\n",
      "        from sklearn.datasets import fetch_openml\n",
      "        housing = fetch_openml(name=\"house_prices\", as_frame=True)\n",
      "\n",
      "    for the Ames housing dataset.\n",
      "  warnings.warn(msg, category=FutureWarning)\n"
     ]
    }
   ],
   "source": [
    "#load boston data\n",
    "BostonData = load_boston()\n",
    "#X Data\n",
    "X = BostonData.data\n",
    "#y Data\n",
    "y = BostonData.target"
   ]
  },
  {
   "cell_type": "code",
   "execution_count": 41,
   "metadata": {},
   "outputs": [],
   "source": [
    "#Splitting data\n",
    "X_train, X_test, y_train, y_test = train_test_split(X, y, test_size=0.33, random_state=44, shuffle =True)"
   ]
  },
  {
   "cell_type": "code",
   "execution_count": 44,
   "metadata": {},
   "outputs": [
    {
     "name": "stdout",
     "output_type": "stream",
     "text": [
      "SVRModel Train Score is :  0.2380405588343888\n",
      "SVRModel Test  Score is :  0.1103911952854415\n",
      "----------------------------------------------------\n"
     ]
    }
   ],
   "source": [
    "#Applying SVR Model \n",
    "'''\n",
    "sklearn.svm.SVR(kernel=’rbf’, degree=3, gamma=’auto_deprecated’, coef0=0.0, tol=0.001,\n",
    "                C=1.0, epsilon=0.1, shrinking=True, cache_size=200, verbose=False,max_iter=-1)\n",
    "'''\n",
    "SVRModel = SVR(C = 1.0 ,epsilon=0.1,kernel = 'rbf') # it also can be : linear, poly, rbf, sigmoid, precomputed\n",
    "SVRModel.fit(X_train, y_train)\n",
    "#Calculating Details\n",
    "print('SVRModel Train Score is : ' , SVRModel.score(X_train, y_train))\n",
    "print('SVRModel Test  Score is : ' , SVRModel.score(X_test, y_test))\n",
    "print('----------------------------------------------------')"
   ]
  },
  {
   "cell_type": "code",
   "execution_count": null,
   "metadata": {},
   "outputs": [],
   "source": [
    "import pandas as pd\n",
    "df = pd.DataFrame(main_list, columns=['Organization','Groups'])"
   ]
  }
 ],
 "metadata": {
  "kernelspec": {
   "display_name": "Python 3.10.8 64-bit (microsoft store)",
   "language": "python",
   "name": "python3"
  },
  "language_info": {
   "codemirror_mode": {
    "name": "ipython",
    "version": 3
   },
   "file_extension": ".py",
   "mimetype": "text/x-python",
   "name": "python",
   "nbconvert_exporter": "python",
   "pygments_lexer": "ipython3",
   "version": "3.10.8"
  },
  "orig_nbformat": 4,
  "vscode": {
   "interpreter": {
    "hash": "7536d7b229462f4296d4c0dae49c3bd6cd3990c783d6b9d88ce3c31a78605890"
   }
  }
 },
 "nbformat": 4,
 "nbformat_minor": 2
}
