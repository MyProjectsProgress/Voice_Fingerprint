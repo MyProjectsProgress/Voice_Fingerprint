{
 "cells": [
  {
   "cell_type": "code",
   "execution_count": 44,
   "metadata": {},
   "outputs": [],
   "source": [
    "import os\n",
    "import pickle\n",
    "import scipy \n",
    "import librosa\n",
    "import numpy as np\n",
    "import librosa.display\n",
    "import matplotlib.pyplot as plt\n",
    "from sklearn import preprocessing\n",
    "from scipy.signal import get_window\n",
    "import python_speech_features as mfcc\n",
    "from sklearn.mixture import GaussianMixture \n",
    "from sklearn.decomposition import MiniBatchDictionaryLearning"
   ]
  },
  {
   "cell_type": "markdown",
   "metadata": {},
   "source": [
    "## Feartures Extraction"
   ]
  },
  {
   "cell_type": "markdown",
   "metadata": {},
   "source": [
    "##### MFCC Feature"
   ]
  },
  {
   "cell_type": "code",
   "execution_count": 45,
   "metadata": {},
   "outputs": [],
   "source": [
    "def calculate_delta(array):\n",
    "\n",
    "    rows,cols = array.shape\n",
    "    deltas = np.zeros((rows,20))\n",
    "    N = 2\n",
    "    for i in range(rows):\n",
    "        index = []\n",
    "        j = 1\n",
    "        while j <= N:\n",
    "            if i-j < 0:\n",
    "                first =0\n",
    "            else:\n",
    "                first = i-j\n",
    "            if i+j > rows-1:\n",
    "                second = rows-1\n",
    "            else:\n",
    "                second = i+j \n",
    "            index.append((second,first))\n",
    "            j+=1\n",
    "        deltas[i] = ( array[index[0][0]]-array[index[0][1]] + (2 * (array[index[1][0]]-array[index[1][1]])) ) / 10\n",
    "    return deltas\n",
    "\n",
    "def extract_features(file_path):\n",
    "    audio , sample_rate = librosa.load(file_path, res_type='kaiser_fast')\n",
    "    mfcc_feature = mfcc.mfcc(audio,sample_rate, 0.025, 0.01,20,nfft = 1200, appendEnergy = True)    \n",
    "    mfcc_feature = preprocessing.scale(mfcc_feature)\n",
    "    delta = calculate_delta(mfcc_feature)\n",
    "    combined = np.hstack((mfcc_feature,delta)) \n",
    "    return combined"
   ]
  },
  {
   "cell_type": "code",
   "execution_count": 46,
   "metadata": {},
   "outputs": [],
   "source": [
    "featuresMagdy = []\n",
    "directory = './files/magdy/'\n",
    "for audio in os.listdir('./files/magdy/'):\n",
    "    audio_path = directory + audio\n",
    "    featuresMagdy=np.vstack(extract_features(audio_path) )\n",
    "\n",
    "# featuresMagdyClose = []\n",
    "# directory = './files/magdy_close/'\n",
    "# for audio in os.listdir('./files/magdy_close/'):\n",
    "#     audio_path = directory + audio\n",
    "#     featuresMagdyClose=np.vstack(extract_features(audio_path) )\n",
    "\n",
    "featuresMayar = []\n",
    "directory = './files/mayar/'\n",
    "for audio in os.listdir('./files/mayar/'):\n",
    "    audio_path = directory + audio\n",
    "    featuresMayar=np.vstack(extract_features(audio_path) )\n",
    "\n",
    "# featuresMayarClose = []\n",
    "# directory = './files/mayar_close/'\n",
    "# for audio in os.listdir('./files/mayar_close/'):\n",
    "#     audio_path = directory + audio\n",
    "#     featuresMayarClose=np.vstack(extract_features(audio_path) )\n",
    "\n",
    "featuresMina = []\n",
    "directory = './files/mina/'\n",
    "for audio in os.listdir('./files/mina/'):\n",
    "    audio_path = directory + audio\n",
    "    featuresMina=np.vstack(extract_features(audio_path) )\n",
    "\n",
    "# featuresMinaClose = []\n",
    "# directory = './files/mina_close/'\n",
    "# for audio in os.listdir('./files/mina_close/'):\n",
    "#     audio_path = directory + audio\n",
    "#     featuresMinaClose=np.vstack(extract_features(audio_path) )\n",
    "\n",
    "featuresMostafa = []\n",
    "directory = './files/mostafa/'\n",
    "for audio in os.listdir('./files/mostafa/'):\n",
    "    audio_path = directory + audio\n",
    "    featuresMostafa=np.vstack(extract_features(audio_path) )\n",
    "\n",
    "# featuresMostafaClose = []\n",
    "# directory = './files/mostafa_close/'\n",
    "# for audio in os.listdir('./files/mostafa_close/'):\n",
    "#     audio_path = directory + audio\n",
    "#     featuresMostafaClose=np.vstack(extract_features(audio_path) )\n",
    "\n",
    "# othersFeatures = []\n",
    "# directory = './files/others/'\n",
    "# for audio in os.listdir('./files/others/'):\n",
    "#     audio_path = directory + audio\n",
    "#     othersFeatures=np.vstack(extract_features(audio_path) )\n",
    "\n",
    "# closeFeatures = []\n",
    "# directory = './files/close/'\n",
    "# for audio in os.listdir('./files/close/'):\n",
    "#     audio_path = directory + audio\n",
    "#     closeFeatures=np.vstack(extract_features(audio_path) )"
   ]
  },
  {
   "cell_type": "code",
   "execution_count": 47,
   "metadata": {},
   "outputs": [],
   "source": [
    "# featuresMostafa = []\n",
    "# directory = './files/mostafa/'\n",
    "# for audio in os.listdir('./files/mostafa/'):\n",
    "#     audio_path = directory + audio\n",
    "#     featuresmostafa=np.vstack(extract_features(audio_path) )"
   ]
  },
  {
   "cell_type": "code",
   "execution_count": 48,
   "metadata": {},
   "outputs": [
    {
     "data": {
      "text/html": [
       "<style>#sk-container-id-4 {color: black;background-color: white;}#sk-container-id-4 pre{padding: 0;}#sk-container-id-4 div.sk-toggleable {background-color: white;}#sk-container-id-4 label.sk-toggleable__label {cursor: pointer;display: block;width: 100%;margin-bottom: 0;padding: 0.3em;box-sizing: border-box;text-align: center;}#sk-container-id-4 label.sk-toggleable__label-arrow:before {content: \"▸\";float: left;margin-right: 0.25em;color: #696969;}#sk-container-id-4 label.sk-toggleable__label-arrow:hover:before {color: black;}#sk-container-id-4 div.sk-estimator:hover label.sk-toggleable__label-arrow:before {color: black;}#sk-container-id-4 div.sk-toggleable__content {max-height: 0;max-width: 0;overflow: hidden;text-align: left;background-color: #f0f8ff;}#sk-container-id-4 div.sk-toggleable__content pre {margin: 0.2em;color: black;border-radius: 0.25em;background-color: #f0f8ff;}#sk-container-id-4 input.sk-toggleable__control:checked~div.sk-toggleable__content {max-height: 200px;max-width: 100%;overflow: auto;}#sk-container-id-4 input.sk-toggleable__control:checked~label.sk-toggleable__label-arrow:before {content: \"▾\";}#sk-container-id-4 div.sk-estimator input.sk-toggleable__control:checked~label.sk-toggleable__label {background-color: #d4ebff;}#sk-container-id-4 div.sk-label input.sk-toggleable__control:checked~label.sk-toggleable__label {background-color: #d4ebff;}#sk-container-id-4 input.sk-hidden--visually {border: 0;clip: rect(1px 1px 1px 1px);clip: rect(1px, 1px, 1px, 1px);height: 1px;margin: -1px;overflow: hidden;padding: 0;position: absolute;width: 1px;}#sk-container-id-4 div.sk-estimator {font-family: monospace;background-color: #f0f8ff;border: 1px dotted black;border-radius: 0.25em;box-sizing: border-box;margin-bottom: 0.5em;}#sk-container-id-4 div.sk-estimator:hover {background-color: #d4ebff;}#sk-container-id-4 div.sk-parallel-item::after {content: \"\";width: 100%;border-bottom: 1px solid gray;flex-grow: 1;}#sk-container-id-4 div.sk-label:hover label.sk-toggleable__label {background-color: #d4ebff;}#sk-container-id-4 div.sk-serial::before {content: \"\";position: absolute;border-left: 1px solid gray;box-sizing: border-box;top: 0;bottom: 0;left: 50%;z-index: 0;}#sk-container-id-4 div.sk-serial {display: flex;flex-direction: column;align-items: center;background-color: white;padding-right: 0.2em;padding-left: 0.2em;position: relative;}#sk-container-id-4 div.sk-item {position: relative;z-index: 1;}#sk-container-id-4 div.sk-parallel {display: flex;align-items: stretch;justify-content: center;background-color: white;position: relative;}#sk-container-id-4 div.sk-item::before, #sk-container-id-4 div.sk-parallel-item::before {content: \"\";position: absolute;border-left: 1px solid gray;box-sizing: border-box;top: 0;bottom: 0;left: 50%;z-index: -1;}#sk-container-id-4 div.sk-parallel-item {display: flex;flex-direction: column;z-index: 1;position: relative;background-color: white;}#sk-container-id-4 div.sk-parallel-item:first-child::after {align-self: flex-end;width: 50%;}#sk-container-id-4 div.sk-parallel-item:last-child::after {align-self: flex-start;width: 50%;}#sk-container-id-4 div.sk-parallel-item:only-child::after {width: 0;}#sk-container-id-4 div.sk-dashed-wrapped {border: 1px dashed gray;margin: 0 0.4em 0.5em 0.4em;box-sizing: border-box;padding-bottom: 0.4em;background-color: white;}#sk-container-id-4 div.sk-label label {font-family: monospace;font-weight: bold;display: inline-block;line-height: 1.2em;}#sk-container-id-4 div.sk-label-container {text-align: center;}#sk-container-id-4 div.sk-container {/* jupyter's `normalize.less` sets `[hidden] { display: none; }` but bootstrap.min.css set `[hidden] { display: none !important; }` so we also need the `!important` here to be able to override the default hidden behavior on the sphinx rendered scikit-learn.org. See: https://github.com/scikit-learn/scikit-learn/issues/21755 */display: inline-block !important;position: relative;}#sk-container-id-4 div.sk-text-repr-fallback {display: none;}</style><div id=\"sk-container-id-4\" class=\"sk-top-container\"><div class=\"sk-text-repr-fallback\"><pre>GaussianMixture(covariance_type=&#x27;diag&#x27;, max_iter=2000, n_components=6, n_init=3)</pre><b>In a Jupyter environment, please rerun this cell to show the HTML representation or trust the notebook. <br />On GitHub, the HTML representation is unable to render, please try loading this page with nbviewer.org.</b></div><div class=\"sk-container\" hidden><div class=\"sk-item\"><div class=\"sk-estimator sk-toggleable\"><input class=\"sk-toggleable__control sk-hidden--visually\" id=\"sk-estimator-id-4\" type=\"checkbox\" checked><label for=\"sk-estimator-id-4\" class=\"sk-toggleable__label sk-toggleable__label-arrow\">GaussianMixture</label><div class=\"sk-toggleable__content\"><pre>GaussianMixture(covariance_type=&#x27;diag&#x27;, max_iter=2000, n_components=6, n_init=3)</pre></div></div></div></div></div>"
      ],
      "text/plain": [
       "GaussianMixture(covariance_type='diag', max_iter=2000, n_components=6, n_init=3)"
      ]
     },
     "execution_count": 48,
     "metadata": {},
     "output_type": "execute_result"
    }
   ],
   "source": [
    "magdy_gmm = GaussianMixture(n_components = 6, max_iter = 2000, covariance_type='diag',n_init = 3)\n",
    "magdy_gmm.fit(featuresMagdy)\n",
    "\n",
    "# magdy_close_gmm = GaussianMixture(n_components = 6, max_iter = 2000, covariance_type='diag',n_init = 3)\n",
    "# magdy_close_gmm.fit(featuresMagdyClose)\n",
    "\n",
    "mayar_gmm = GaussianMixture(n_components = 6, max_iter = 2000, covariance_type='diag',n_init = 3)\n",
    "mayar_gmm.fit(featuresMayar)\n",
    "\n",
    "# mayar_close_gmm = GaussianMixture(n_components = 6, max_iter = 2000, covariance_type='diag',n_init = 3)\n",
    "# mayar_close_gmm.fit(featuresMayarClose)\n",
    "\n",
    "mina_gmm = GaussianMixture(n_components = 6, max_iter = 2000, covariance_type='diag',n_init = 3)\n",
    "mina_gmm.fit(featuresMina)\n",
    "\n",
    "# mina_close_gmm = GaussianMixture(n_components = 6, max_iter = 2000, covariance_type='diag',n_init = 3)\n",
    "# mina_close_gmm.fit(featuresMinaClose)\n",
    "\n",
    "mostafa_gmm = GaussianMixture(n_components = 6, max_iter = 2000, covariance_type='diag',n_init = 3)\n",
    "mostafa_gmm.fit(featuresMostafa)\n",
    "\n",
    "# mostafa_close_gmm = GaussianMixture(n_components = 6, max_iter = 2000, covariance_type='diag',n_init = 3)\n",
    "# mostafa_close_gmm.fit(featuresMostafaClose)\n",
    "\n",
    "# others_gmm = GaussianMixture(n_components = 6, max_iter = 2000, covariance_type='diag',n_init = 3)\n",
    "# others_gmm.fit(othersFeatures)\n",
    "\n",
    "# close_gmm = GaussianMixture(n_components = 6, max_iter = 2000, covariance_type='diag',n_init = 3)\n",
    "# close_gmm.fit(closeFeatures)"
   ]
  },
  {
   "cell_type": "code",
   "execution_count": 49,
   "metadata": {},
   "outputs": [],
   "source": [
    "# mostafa_gmm = GaussianMixture(n_components = 6, max_iter = 2000, covariance_type='diag',n_init = 3)\n",
    "# mostafa_gmm.fit(featuresmostafa)"
   ]
  },
  {
   "cell_type": "code",
   "execution_count": 50,
   "metadata": {},
   "outputs": [],
   "source": [
    "# # Initialise the subplot function using number of rows and columns\n",
    "# figure, axis = plt.subplots(2, 2)\n",
    "\n",
    "# # For Sine Function\n",
    "# axis[0, 0].plot(featuresMagdy)\n",
    "# axis[0, 0].set_title(\"Magdy\")\n",
    "\n",
    "# # For Cosine Function\n",
    "# axis[0, 1].plot(featuresMayar)\n",
    "# axis[0, 1].set_title(\"Mayar\")\n",
    "\n",
    "# # For Tangent Function\n",
    "# axis[1, 0].plot(featuresMina)\n",
    "# axis[1, 0].set_title(\"Mina\")\n",
    "\n",
    "# # For Tanh Function\n",
    "# axis[1, 1].plot(featuresmostafa)\n",
    "# axis[1, 1].set_title(\"Mostafa\")\n",
    "\n",
    "# names = ['group_a', 'group_b', 'group_c']\n",
    "# values = [1, 10, 100]\n",
    "\n",
    "# # Combine all the operations and display\n",
    "# plt.show()"
   ]
  },
  {
   "cell_type": "code",
   "execution_count": 51,
   "metadata": {},
   "outputs": [],
   "source": [
    "pickle.dump(magdy_gmm,open('magdy.gmm','wb'))\n",
    "# pickle.dump(magdy_close_gmm,open('magdy_close.gmm','wb'))\n",
    "pickle.dump(mayar_gmm,open('mayar.gmm','wb'))\n",
    "# pickle.dump(mayar_close_gmm,open('mayar_close.gmm','wb'))\n",
    "pickle.dump(mina_gmm,open('mina.gmm','wb'))\n",
    "# pickle.dump(mina_close_gmm,open('mina_close.gmm','wb'))\n",
    "pickle.dump(mostafa_gmm,open('mostafa.gmm','wb'))\n",
    "# pickle.dump(mostafa_close_gmm,open('mostafa_close.gmm','wb'))\n",
    "# pickle.dump(others_gmm,open('others.gmm','wb'))\n",
    "# pickle.dump(close_gmm,open('close.gmm','wb'))"
   ]
  },
  {
   "cell_type": "code",
   "execution_count": 52,
   "metadata": {},
   "outputs": [],
   "source": [
    "# pickle.dump(mostafa_gmm,open('mostafa.gmm','wb'))"
   ]
  },
  {
   "cell_type": "code",
   "execution_count": 53,
   "metadata": {},
   "outputs": [
    {
     "name": "stdout",
     "output_type": "stream",
     "text": [
      "11920\n"
     ]
    }
   ],
   "source": [
    "test = extract_features('./files/test/nada_as_tamer.wav')\n",
    "print(test.size)"
   ]
  },
  {
   "cell_type": "code",
   "execution_count": 54,
   "metadata": {},
   "outputs": [],
   "source": [
    "# scores_1=np.array(others_gmm.score(test))\n",
    "# scores_2=np.array(magdy_gmm.score(test))\n",
    "# scores_3=np.array(mayar_gmm.score(test))\n",
    "# scores_4=np.array(mina_gmm.score(test))\n",
    "# scores_5=np.array(mostafa_gmm.score(test))\n",
    "# scores_6=np.array(close_gmm.score(test))\n",
    "\n",
    "# print(scores_1)\n",
    "# print(scores_2)\n",
    "# print(scores_3)\n",
    "# print(scores_4)\n",
    "# print(scores_5)\n",
    "# print(scores_6)"
   ]
  },
  {
   "cell_type": "code",
   "execution_count": null,
   "metadata": {},
   "outputs": [],
   "source": []
  }
 ],
 "metadata": {
  "kernelspec": {
   "display_name": "Python 3.10.8 64-bit (microsoft store)",
   "language": "python",
   "name": "python3"
  },
  "language_info": {
   "codemirror_mode": {
    "name": "ipython",
    "version": 3
   },
   "file_extension": ".py",
   "mimetype": "text/x-python",
   "name": "python",
   "nbconvert_exporter": "python",
   "pygments_lexer": "ipython3",
   "version": "3.10.9 (tags/v3.10.9:1dd9be6, Dec  6 2022, 20:01:21) [MSC v.1934 64 bit (AMD64)]"
  },
  "orig_nbformat": 4,
  "vscode": {
   "interpreter": {
    "hash": "7536d7b229462f4296d4c0dae49c3bd6cd3990c783d6b9d88ce3c31a78605890"
   }
  }
 },
 "nbformat": 4,
 "nbformat_minor": 2
}
